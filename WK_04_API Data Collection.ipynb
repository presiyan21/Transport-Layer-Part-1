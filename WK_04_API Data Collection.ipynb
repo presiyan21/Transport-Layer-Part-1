{
 "cells": [
  {
   "cell_type": "code",
   "execution_count": null,
   "metadata": {},
   "outputs": [
    {
     "name": "stdout",
     "output_type": "stream",
     "text": [
      "Goldsmiths Temperature: 8.1°C\n",
      "British Library Temperature: 7.9°C\n",
      "Temperature Difference: 0.20°C\n",
      "Weather data sent!\n"
     ]
    }
   ],
   "source": [
    "import socket\n",
    "import requests\n",
    "\n",
    "# Fetch temperature from Open-Meteo API\n",
    "def fetch_temperature(latitude, longitude):\n",
    "    api_url = f\"https://api.open-meteo.com/v1/forecast?latitude={latitude}&longitude={longitude}&current_weather=true\"\n",
    "    response = requests.get(api_url)\n",
    "    if response.status_code == 200:\n",
    "        weather_data = response.json()\n",
    "        return weather_data[\"current_weather\"][\"temperature\"]\n",
    "    else:\n",
    "        return None\n",
    "\n",
    "# Coordinates\n",
    "goldsmiths_coords = (51.4747, -0.0295)  # Goldsmiths, University of London\n",
    "library_coords = (51.5299, -0.1279)  # British Library\n",
    "\n",
    "# Fetch temperatures\n",
    "goldsmiths_temp = fetch_temperature(*goldsmiths_coords)\n",
    "library_temp = fetch_temperature(*library_coords)\n",
    "\n",
    "# Message if temperatures are available\n",
    "if goldsmiths_temp is not None and library_temp is not None:\n",
    "    message = (f\"Temperature Comparison:\\n\"\n",
    "               f\"Goldsmiths, University of London: {goldsmiths_temp}°C\\n\"\n",
    "               f\"British Library: {library_temp}°C\\n\"\n",
    "               f\"Difference: {abs(goldsmiths_temp - library_temp):.2f}°C\")\n",
    "               \n",
    "# Print temperatures and difference\n",
    "    print(f\"Goldsmiths Temperature: {goldsmiths_temp}°C\")\n",
    "    print(f\"British Library Temperature: {library_temp}°C\")\n",
    "    print(f\"Temperature Difference: {abs(goldsmiths_temp - library_temp):.2f}°C\")\n",
    "    \n",
    "else:\n",
    "    message = \"Failed to fetch weather data for both locations.\"\n",
    "\n",
    "# Send the weather data using UDP\n",
    "client_socket = socket.socket(socket.AF_INET, socket.SOCK_DGRAM)\n",
    "server_address = ('localhost', 65433)\n",
    "\n",
    "client_socket.sendto(message.encode(), server_address)\n",
    "print(\"Weather data sent!\")\n",
    "\n",
    "client_socket.close()\n"
   ]
  }
 ],
 "metadata": {
  "kernelspec": {
   "display_name": "base",
   "language": "python",
   "name": "python3"
  },
  "language_info": {
   "codemirror_mode": {
    "name": "ipython",
    "version": 3
   },
   "file_extension": ".py",
   "mimetype": "text/x-python",
   "name": "python",
   "nbconvert_exporter": "python",
   "pygments_lexer": "ipython3",
   "version": "3.12.4"
  }
 },
 "nbformat": 4,
 "nbformat_minor": 2
}
