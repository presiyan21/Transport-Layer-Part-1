{
 "cells": [
  {
   "cell_type": "code",
   "execution_count": null,
   "metadata": {},
   "outputs": [
    {
     "name": "stdout",
     "output_type": "stream",
     "text": [
      "Authentication successful. You can now chat.\n"
     ]
    }
   ],
   "source": [
    "# client\n",
    "import socket\n",
    "import json\n",
    "import base64\n",
    "from cryptography.fernet import Fernet\n",
    "\n",
    "# Create a UDP socket\n",
    "client_socket = socket.socket(socket.AF_INET, socket.SOCK_DGRAM)\n",
    "server_address = ('localhost', 65433)\n",
    "\n",
    "# Load the encryption key\n",
    "def load_key():\n",
    "    with open(\"secret.key\", \"rb\") as key_file:\n",
    "        return key_file.read()\n",
    "\n",
    "KEY = load_key()\n",
    "cipher = Fernet(KEY)\n",
    "\n",
    "# User authentication\n",
    "username = input(\"Enter username: \")\n",
    "password = input(\"Enter password: \")\n",
    "\n",
    "auth_data = json.dumps({\"type\": \"auth\", \"username\": username, \"password\": password})\n",
    "client_socket.sendto(auth_data.encode(), server_address)  # Send authentication request\n",
    "\n",
    "# Receive authentication response\n",
    "response, _ = client_socket.recvfrom(4096)\n",
    "response = json.loads(response.decode())\n",
    "if response[\"status\"] == \"success\":\n",
    "    print(\"Authentication successful. You can now chat.\")\n",
    "    while True:\n",
    "        message = input(\"You: \")  # Take user input for chat\n",
    "        encrypted_msg = base64.urlsafe_b64encode(cipher.encrypt(message.encode())).decode()\n",
    "        chat_data = json.dumps({\"type\": \"message\", \"content\": encrypted_msg})\n",
    "        client_socket.sendto(chat_data.encode(), server_address)  # Send encrypted message to server\n",
    "else:\n",
    "    print(\"Authentication failed.\")\n",
    "\n",
    "client_socket.close()  # Close the socket after use"
   ]
  }
 ],
 "metadata": {
  "kernelspec": {
   "display_name": "base",
   "language": "python",
   "name": "python3"
  },
  "language_info": {
   "codemirror_mode": {
    "name": "ipython",
    "version": 3
   },
   "file_extension": ".py",
   "mimetype": "text/x-python",
   "name": "python",
   "nbconvert_exporter": "python",
   "pygments_lexer": "ipython3",
   "version": "3.12.4"
  }
 },
 "nbformat": 4,
 "nbformat_minor": 2
}
