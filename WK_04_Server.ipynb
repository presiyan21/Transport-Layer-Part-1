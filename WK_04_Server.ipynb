{
 "cells": [
  {
   "cell_type": "code",
   "execution_count": null,
   "metadata": {},
   "outputs": [
    {
     "name": "stdout",
     "output_type": "stream",
     "text": [
      "UDP Chat Server is running...\n",
      "user1: this is message from the past\n",
      "user1: I am still here\n",
      "user1: \n"
     ]
    }
   ],
   "source": [
    "# server\n",
    "import socket\n",
    "import threading\n",
    "import json\n",
    "import base64\n",
    "from cryptography.fernet import Fernet\n",
    "\n",
    "# Generate a key for encryption/decryption\n",
    "KEY = Fernet.generate_key()\n",
    "cipher = Fernet(KEY)\n",
    "\n",
    "def save_key():\n",
    "    with open(\"secret.key\", \"wb\") as key_file:\n",
    "        key_file.write(KEY)\n",
    "\n",
    "def load_key():\n",
    "    with open(\"secret.key\", \"rb\") as key_file:\n",
    "        return key_file.read()\n",
    "\n",
    "# Ensure key is saved and loaded properly\n",
    "save_key()\n",
    "KEY = load_key()\n",
    "cipher = Fernet(KEY)\n",
    "\n",
    "# User database (for authentication)\n",
    "USER_CREDENTIALS = {\n",
    "    \"user1\": \"password1\",\n",
    "    \"user2\": \"password2\"\n",
    "}\n",
    "\n",
    "# Dictionary to track authenticated users\n",
    "connected_users = {}\n",
    "\n",
    "# UDP Server\n",
    "server_socket = socket.socket(socket.AF_INET, socket.SOCK_DGRAM)\n",
    "server_socket.bind(('localhost', 65433))\n",
    "print(\"UDP Chat Server is running...\")\n",
    "\n",
    "# Function to handle incoming client messages\n",
    "def handle_client(data, client_address):\n",
    "    global connected_users\n",
    "    \n",
    "    try:\n",
    "        message = json.loads(data.decode())  # Decode and parse the received JSON message\n",
    "        \n",
    "        if message[\"type\"] == \"auth\":  # Handle authentication requests\n",
    "            username = message[\"username\"]\n",
    "            password = message[\"password\"]\n",
    "            \n",
    "            if username in USER_CREDENTIALS and USER_CREDENTIALS[username] == password:\n",
    "                connected_users[client_address] = username  # Store authenticated user\n",
    "                response = json.dumps({\"status\": \"success\", \"message\": \"Authentication successful.\"})\n",
    "            else:\n",
    "                response = json.dumps({\"status\": \"error\", \"message\": \"Invalid credentials.\"})\n",
    "                \n",
    "            server_socket.sendto(response.encode(), client_address)  # Send authentication response\n",
    "        \n",
    "        \n",
    "        elif message[\"type\"] == \"message\":  # Handle chat messages\n",
    "            if client_address in connected_users:   # Ensure user is authenticated\n",
    "                decrypted_msg = cipher.decrypt(base64.urlsafe_b64decode(message[\"content\"].encode())).decode()\n",
    "                print(f\"{connected_users[client_address]}: {decrypted_msg}\")  # Display received message\n",
    "            else:\n",
    "                response = json.dumps({\"status\": \"error\", \"message\": \"Unauthorized user.\"})\n",
    "                server_socket.sendto(response.encode(), client_address)  # Send error message if unauthorized\n",
    "    \n",
    "    except Exception as e:\n",
    "        print(\"Error handling message:\", e)\n",
    "\n",
    "# Listening for clients\n",
    "while True:\n",
    "    data, client_address = server_socket.recvfrom(4096)\n",
    "    threading.Thread(target=handle_client, args=(data, client_address)).start()\n"
   ]
  }
 ],
 "metadata": {
  "kernelspec": {
   "display_name": "base",
   "language": "python",
   "name": "python3"
  },
  "language_info": {
   "codemirror_mode": {
    "name": "ipython",
    "version": 3
   },
   "file_extension": ".py",
   "mimetype": "text/x-python",
   "name": "python",
   "nbconvert_exporter": "python",
   "pygments_lexer": "ipython3",
   "version": "3.12.4"
  }
 },
 "nbformat": 4,
 "nbformat_minor": 2
}
